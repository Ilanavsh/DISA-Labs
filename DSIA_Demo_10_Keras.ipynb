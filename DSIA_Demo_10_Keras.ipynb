{
  "nbformat": 4,
  "nbformat_minor": 0,
  "metadata": {
    "colab": {
      "name": "DSIA Demo-10-Keras.ipynb",
      "version": "0.3.2",
      "provenance": [],
      "include_colab_link": true
    },
    "kernelspec": {
      "name": "python3",
      "display_name": "Python 3"
    }
  },
  "cells": [
    {
      "cell_type": "markdown",
      "metadata": {
        "id": "view-in-github",
        "colab_type": "text"
      },
      "source": [
        "<a href=\"https://colab.research.google.com/github/Ilanavsh/DISA-Labs/blob/master/DSIA_Demo_10_Keras.ipynb\" target=\"_parent\"><img src=\"https://colab.research.google.com/assets/colab-badge.svg\" alt=\"Open In Colab\"/></a>"
      ]
    },
    {
      "cell_type": "code",
      "metadata": {
        "id": "hM_DcNRJEXbo",
        "colab_type": "code",
        "colab": {
          "base_uri": "https://localhost:8080/",
          "height": 34
        },
        "outputId": "cca41d85-966d-4f4e-86bf-c5fd36f61e7d"
      },
      "source": [
        "import numpy as np\n",
        "\n",
        "%matplotlib inline\n",
        "import matplotlib.pyplot as plt\n",
        "\n",
        "from sklearn.datasets import load_digits\n",
        "from sklearn.metrics import confusion_matrix\n",
        "from sklearn.model_selection import train_test_split\n",
        "\n",
        "# import keras\n",
        "from keras.models import Sequential\n",
        "from keras.layers import Dense\n",
        "from keras.utils import to_categorical"
      ],
      "execution_count": 1,
      "outputs": [
        {
          "output_type": "stream",
          "text": [
            "Using TensorFlow backend.\n"
          ],
          "name": "stderr"
        }
      ]
    },
    {
      "cell_type": "code",
      "metadata": {
        "id": "CFApxS2sEpJY",
        "colab_type": "code",
        "colab": {}
      },
      "source": [
        "# The digits dataset\n",
        "digits = load_digits()"
      ],
      "execution_count": 0,
      "outputs": []
    },
    {
      "cell_type": "code",
      "metadata": {
        "id": "kgIsY7uBEwHo",
        "colab_type": "code",
        "colab": {
          "base_uri": "https://localhost:8080/",
          "height": 816
        },
        "outputId": "37f11dc9-dbb4-426c-85ed-4e5ac589b412"
      },
      "source": [
        "print(digits.DESCR)"
      ],
      "execution_count": 3,
      "outputs": [
        {
          "output_type": "stream",
          "text": [
            ".. _digits_dataset:\n",
            "\n",
            "Optical recognition of handwritten digits dataset\n",
            "--------------------------------------------------\n",
            "\n",
            "**Data Set Characteristics:**\n",
            "\n",
            "    :Number of Instances: 5620\n",
            "    :Number of Attributes: 64\n",
            "    :Attribute Information: 8x8 image of integer pixels in the range 0..16.\n",
            "    :Missing Attribute Values: None\n",
            "    :Creator: E. Alpaydin (alpaydin '@' boun.edu.tr)\n",
            "    :Date: July; 1998\n",
            "\n",
            "This is a copy of the test set of the UCI ML hand-written digits datasets\n",
            "https://archive.ics.uci.edu/ml/datasets/Optical+Recognition+of+Handwritten+Digits\n",
            "\n",
            "The data set contains images of hand-written digits: 10 classes where\n",
            "each class refers to a digit.\n",
            "\n",
            "Preprocessing programs made available by NIST were used to extract\n",
            "normalized bitmaps of handwritten digits from a preprinted form. From a\n",
            "total of 43 people, 30 contributed to the training set and different 13\n",
            "to the test set. 32x32 bitmaps are divided into nonoverlapping blocks of\n",
            "4x4 and the number of on pixels are counted in each block. This generates\n",
            "an input matrix of 8x8 where each element is an integer in the range\n",
            "0..16. This reduces dimensionality and gives invariance to small\n",
            "distortions.\n",
            "\n",
            "For info on NIST preprocessing routines, see M. D. Garris, J. L. Blue, G.\n",
            "T. Candela, D. L. Dimmick, J. Geist, P. J. Grother, S. A. Janet, and C.\n",
            "L. Wilson, NIST Form-Based Handprint Recognition System, NISTIR 5469,\n",
            "1994.\n",
            "\n",
            ".. topic:: References\n",
            "\n",
            "  - C. Kaynak (1995) Methods of Combining Multiple Classifiers and Their\n",
            "    Applications to Handwritten Digit Recognition, MSc Thesis, Institute of\n",
            "    Graduate Studies in Science and Engineering, Bogazici University.\n",
            "  - E. Alpaydin, C. Kaynak (1998) Cascading Classifiers, Kybernetika.\n",
            "  - Ken Tang and Ponnuthurai N. Suganthan and Xi Yao and A. Kai Qin.\n",
            "    Linear dimensionalityreduction using relevance weighted LDA. School of\n",
            "    Electrical and Electronic Engineering Nanyang Technological University.\n",
            "    2005.\n",
            "  - Claudio Gentile. A New Approximate Maximal Margin Classification\n",
            "    Algorithm. NIPS. 2000.\n"
          ],
          "name": "stdout"
        }
      ]
    },
    {
      "cell_type": "code",
      "metadata": {
        "id": "Dsz4OStnE5qD",
        "colab_type": "code",
        "colab": {
          "base_uri": "https://localhost:8080/",
          "height": 147
        },
        "outputId": "6897fe4d-5e21-4118-e7e2-16c5ebe98a89"
      },
      "source": [
        "id = np.random.randint(len(digits.target))\n",
        "plt.figure(figsize = (2, 2))\n",
        "plt.imshow(digits.images[id], cmap = 'gray')\n",
        "plt.xticks([])\n",
        "plt.yticks([])\n",
        "plt.show()"
      ],
      "execution_count": 4,
      "outputs": [
        {
          "output_type": "display_data",
          "data": {
            "image/png": "[encoded data removed]",
            "text/plain": [
              "<Figure size 144x144 with 1 Axes>"
            ]
          },
          "metadata": {
            "tags": []
          }
        }
      ]
    },
    {
      "cell_type": "code",
      "metadata": {
        "id": "jnRFo6HRE_bt",
        "colab_type": "code",
        "colab": {}
      },
      "source": [
        "# Prepare input data\n",
        "# input\n",
        "X = digits.data.astype(np.uint8)\n",
        "n_cols = X.shape[1]\n",
        "\n",
        "# output\n",
        "target = digits.target.astype(np.uint8)\n",
        "\n",
        "# Convert the target to categorical\n",
        "y = to_categorical(\n",
        "    target,\n",
        "    num_classes = len(set(target)),\n",
        "    dtype = 'uint8')"
      ],
      "execution_count": 0,
      "outputs": []
    },
    {
      "cell_type": "code",
      "metadata": {
        "id": "7h2ni6jXFEcZ",
        "colab_type": "code",
        "colab": {}
      },
      "source": [
        "X_train, X_test, y_train, y_test = train_test_split(\n",
        "    X, y, \n",
        "    test_size = 0.3,\n",
        "    random_state = 65)"
      ],
      "execution_count": 0,
      "outputs": []
    },
    {
      "cell_type": "code",
      "metadata": {
        "id": "gbWmVRfRFKQ5",
        "colab_type": "code",
        "colab": {
          "base_uri": "https://localhost:8080/",
          "height": 89
        },
        "outputId": "2f27aa60-0c75-4c72-deb4-301455caa960"
      },
      "source": [
        "# Set up the model architecture\n",
        "model = Sequential()"
      ],
      "execution_count": 7,
      "outputs": [
        {
          "output_type": "stream",
          "text": [
            "WARNING: Logging before flag parsing goes to stderr.\n",
            "W0701 10:33:01.865666 139698574419840 deprecation_wrapper.py:119] From /usr/local/lib/python3.6/dist-packages/keras/backend/tensorflow_backend.py:74: The name tf.get_default_graph is deprecated. Please use tf.compat.v1.get_default_graph instead.\n",
            "\n"
          ],
          "name": "stderr"
        }
      ]
    },
    {
      "cell_type": "code",
      "metadata": {
        "id": "2hJeOqvaFN9C",
        "colab_type": "code",
        "colab": {
          "base_uri": "https://localhost:8080/",
          "height": 106
        },
        "outputId": "c926769d-7d9f-4d03-f008-296baae47760"
      },
      "source": [
        "# Add the first hidden layer\n",
        "model.add(Dense(100, activation = 'relu', input_shape = (n_cols, )))\n",
        "# Add the second hidden layer\n",
        "model.add(Dense(50, activation = 'relu'))\n",
        "\n",
        "# Add the output layer\n",
        "model.add(Dense(10, activation = 'softmax'))"
      ],
      "execution_count": 8,
      "outputs": [
        {
          "output_type": "stream",
          "text": [
            "W0701 10:33:21.956075 139698574419840 deprecation_wrapper.py:119] From /usr/local/lib/python3.6/dist-packages/keras/backend/tensorflow_backend.py:517: The name tf.placeholder is deprecated. Please use tf.compat.v1.placeholder instead.\n",
            "\n",
            "W0701 10:33:21.977085 139698574419840 deprecation_wrapper.py:119] From /usr/local/lib/python3.6/dist-packages/keras/backend/tensorflow_backend.py:4138: The name tf.random_uniform is deprecated. Please use tf.random.uniform instead.\n",
            "\n"
          ],
          "name": "stderr"
        }
      ]
    },
    {
      "cell_type": "code",
      "metadata": {
        "id": "yccvwCaCFPke",
        "colab_type": "code",
        "colab": {
          "base_uri": "https://localhost:8080/",
          "height": 260
        },
        "outputId": "f92f7917-5933-4f19-a853-8b468c6baa0c"
      },
      "source": [
        "print(model.summary())"
      ],
      "execution_count": 9,
      "outputs": [
        {
          "output_type": "stream",
          "text": [
            "_________________________________________________________________\n",
            "Layer (type)                 Output Shape              Param #   \n",
            "=================================================================\n",
            "dense_1 (Dense)              (None, 100)               6500      \n",
            "_________________________________________________________________\n",
            "dense_2 (Dense)              (None, 50)                5050      \n",
            "_________________________________________________________________\n",
            "dense_3 (Dense)              (None, 10)                510       \n",
            "=================================================================\n",
            "Total params: 12,060\n",
            "Trainable params: 12,060\n",
            "Non-trainable params: 0\n",
            "_________________________________________________________________\n",
            "None\n"
          ],
          "name": "stdout"
        }
      ]
    },
    {
      "cell_type": "code",
      "metadata": {
        "id": "gPTfhAL5FVtV",
        "colab_type": "code",
        "colab": {
          "base_uri": "https://localhost:8080/",
          "height": 106
        },
        "outputId": "72e2f5eb-236c-4e8b-a98c-2cf74e145a5a"
      },
      "source": [
        "# Compile the model\n",
        "model.compile(\n",
        "    optimizer = 'sgd',\n",
        "    loss = 'categorical_crossentropy',\n",
        "    metrics = ['accuracy'])"
      ],
      "execution_count": 10,
      "outputs": [
        {
          "output_type": "stream",
          "text": [
            "W0701 10:33:53.128182 139698574419840 deprecation_wrapper.py:119] From /usr/local/lib/python3.6/dist-packages/keras/optimizers.py:790: The name tf.train.Optimizer is deprecated. Please use tf.compat.v1.train.Optimizer instead.\n",
            "\n",
            "W0701 10:33:53.169185 139698574419840 deprecation_wrapper.py:119] From /usr/local/lib/python3.6/dist-packages/keras/backend/tensorflow_backend.py:3295: The name tf.log is deprecated. Please use tf.math.log instead.\n",
            "\n"
          ],
          "name": "stderr"
        }
      ]
    },
    {
      "cell_type": "code",
      "metadata": {
        "id": "5vexWV0lFZSS",
        "colab_type": "code",
        "colab": {
          "base_uri": "https://localhost:8080/",
          "height": 159
        },
        "outputId": "87cdac1e-b8c2-4070-a85c-3b57a1d7fee7"
      },
      "source": [
        "%%time\n",
        "# Fit the model\n",
        "history = model.fit(\n",
        "    X_train,\n",
        "    y_train,\n",
        "    validation_split = 0.25,\n",
        "    batch_size = 20,\n",
        "    epochs = 100,\n",
        "    verbose = 0)"
      ],
      "execution_count": 11,
      "outputs": [
        {
          "output_type": "stream",
          "text": [
            "W0701 10:34:10.888785 139698574419840 deprecation.py:323] From /usr/local/lib/python3.6/dist-packages/tensorflow/python/ops/math_grad.py:1250: add_dispatch_support.<locals>.wrapper (from tensorflow.python.ops.array_ops) is deprecated and will be removed in a future version.\n",
            "Instructions for updating:\n",
            "Use tf.where in 2.0, which has the same broadcast rule as np.where\n",
            "W0701 10:34:10.947641 139698574419840 deprecation_wrapper.py:119] From /usr/local/lib/python3.6/dist-packages/keras/backend/tensorflow_backend.py:986: The name tf.assign_add is deprecated. Please use tf.compat.v1.assign_add instead.\n",
            "\n"
          ],
          "name": "stderr"
        },
        {
          "output_type": "stream",
          "text": [
            "CPU times: user 7.93 s, sys: 338 ms, total: 8.27 s\n",
            "Wall time: 6.74 s\n"
          ],
          "name": "stdout"
        }
      ]
    },
    {
      "cell_type": "code",
      "metadata": {
        "id": "kFqPJKhIFeqH",
        "colab_type": "code",
        "colab": {}
      },
      "source": [
        "predictions = model.predict_classes(X_test)"
      ],
      "execution_count": 0,
      "outputs": []
    },
    {
      "cell_type": "code",
      "metadata": {
        "id": "2U-Sg_nlFiq0",
        "colab_type": "code",
        "colab": {
          "base_uri": "https://localhost:8080/",
          "height": 69
        },
        "outputId": "1f4a8841-98a7-4c39-f4c2-51e1e1d74612"
      },
      "source": [
        "score = model.evaluate(X_test, y_test, batch_size = 315)\n",
        "print('\\nTest loss: %.6f, Test accuracy: %.6f' % tuple(score))"
      ],
      "execution_count": 13,
      "outputs": [
        {
          "output_type": "stream",
          "text": [
            "540/540 [==============================] - 0s 32us/step\n",
            "\n",
            "Test loss: 0.112399, Test accuracy: 0.968519\n"
          ],
          "name": "stdout"
        }
      ]
    },
    {
      "cell_type": "code",
      "metadata": {
        "id": "GZuO49HMFmJo",
        "colab_type": "code",
        "colab": {}
      },
      "source": [
        "def print_cm(cm):\n",
        "    c = '%%%dd ' % len('%d' % cm.max())\n",
        "    s = ' | '\n",
        "    s += ''.join([c % i for i in range(len(cm[0]))])\n",
        "    print(s)\n",
        "    print('-' * len(s))\n",
        "    for i, r in enumerate(cm):\n",
        "        s = '%d| ' % i\n",
        "        s += c * len(r)\n",
        "        print(s % tuple(r))"
      ],
      "execution_count": 0,
      "outputs": []
    },
    {
      "cell_type": "code",
      "metadata": {
        "id": "lVHOeNq7Fp8L",
        "colab_type": "code",
        "colab": {
          "base_uri": "https://localhost:8080/",
          "height": 225
        },
        "outputId": "59914684-3516-4ccd-c21c-233551e38550"
      },
      "source": [
        "y_test_target = np.array([x.argmax() for x in y_test])\n",
        "cm = confusion_matrix(y_test_target, predictions)\n",
        "print_cm(cm)"
      ],
      "execution_count": 15,
      "outputs": [
        {
          "output_type": "stream",
          "text": [
            " |  0  1  2  3  4  5  6  7  8  9 \n",
            "---------------------------------\n",
            "0| 54  0  0  0  1  0  0  0  0  0 \n",
            "1|  0 55  0  0  0  0  0  0  0  0 \n",
            "2|  0  0 47  0  0  0  1  0  1  0 \n",
            "3|  0  0  0 50  0  2  0  0  0  0 \n",
            "4|  0  1  0  0 53  0  1  0  0  0 \n",
            "5|  0  1  0  0  0 59  0  0  0  0 \n",
            "6|  2  0  0  0  0  0 59  0  0  0 \n",
            "7|  0  0  0  0  0  0  0 51  0  1 \n",
            "8|  0  2  0  0  0  1  1  0 45  0 \n",
            "9|  0  1  0  0  0  1  0  0  0 50 \n"
          ],
          "name": "stdout"
        }
      ]
    },
    {
      "cell_type": "code",
      "metadata": {
        "id": "wDUCPIolFrZL",
        "colab_type": "code",
        "colab": {
          "base_uri": "https://localhost:8080/",
          "height": 430
        },
        "outputId": "74b93f59-452a-4876-f5cc-5c3f0806d4ba"
      },
      "source": [
        "fig, ax = plt.subplots(1, 2, figsize = (18, 6))\n",
        "fig.subplots_adjust(left = 0.02, right = 0.98, wspace = 0.2)\n",
        "\n",
        "plt.rcParams.update({'font.size': 18})\n",
        "\n",
        "# Plot training & validation accuracy values\n",
        "ax[0].plot(model.history.history['acc'], label = 'Training')\n",
        "ax[0].plot(model.history.history['val_acc'], label = 'Validation')\n",
        "ax[0].set_title('Model accuracy')\n",
        "ax[0].set_ylabel('Accuracy')\n",
        "ax[0].set_xlabel('Epoch')\n",
        "ax[0].legend()\n",
        "\n",
        "# Plot training & validation loss values\n",
        "ax[1].plot(model.history.history['loss'], label = 'Training')\n",
        "ax[1].plot(model.history.history['val_loss'], label = 'Validation')\n",
        "ax[1].set_title('Model loss')\n",
        "ax[1].set_ylabel('Loss')\n",
        "ax[1].set_xlabel('Epoch')\n",
        "ax[1].legend()\n",
        "\n",
        "plt.show()"
      ],
      "execution_count": 16,
      "outputs": [
        {
          "output_type": "display_data",
          "data": {
            "image/png": "[encoded data removed]",
            "text/plain": [
              "<Figure size 1296x432 with 2 Axes>"
            ]
          },
          "metadata": {
            "tags": []
          }
        }
      ]
    },
    {
      "cell_type": "code",
      "metadata": {
        "id": "5EI4v_xUFrli",
        "colab_type": "code",
        "colab": {}
      },
      "source": [
        "def show_digit():\n",
        "    id = np.random.randint(len(predictions))\n",
        "    XTest = X_test[id].reshape(8, 8)\n",
        "    plt.figure(figsize = (2, 2))\n",
        "    plt.imshow(XTest, cmap = 'gray')\n",
        "    plt.title('Prediction: %d' % predictions[id])\n",
        "    plt.xticks([])\n",
        "    plt.yticks([])\n",
        "    plt.show()"
      ],
      "execution_count": 0,
      "outputs": []
    },
    {
      "cell_type": "code",
      "metadata": {
        "id": "XDxDxFgKFr3U",
        "colab_type": "code",
        "colab": {}
      },
      "source": [
        "def show_10_digits():\n",
        "    fig, ax = plt.subplots(2, 5, figsize = (8, 4))\n",
        "    fig.subplots_adjust(left = 0.02, right = 0.98, top = 0.8, wspace = 0.2, hspace = 0.3)\n",
        "    fig.suptitle('Ten Predictions', fontsize = 12, fontweight = 'bold')\n",
        "\n",
        "    plt.rcParams.update({'font.size': 10})\n",
        "    \n",
        "    ids = np.random.randint(len(predictions), size = 10)\n",
        "    r = 0\n",
        "    c = 0\n",
        "    for id in ids:\n",
        "        XTest = X_test[id].reshape(8, 8)\n",
        "\n",
        "        # original image\n",
        "        ax[r, c].imshow(XTest, cmap = 'gray')\n",
        "        ax[r, c].set_title('Prediction: %d' % predictions[id])\n",
        "        ax[r, c].set_xticks([])\n",
        "        ax[r, c].set_yticks([])\n",
        "        c += 1\n",
        "        if c > 4:\n",
        "            r += 1\n",
        "            c = 0\n",
        "\n",
        "    plt.show()"
      ],
      "execution_count": 0,
      "outputs": []
    },
    {
      "cell_type": "code",
      "metadata": {
        "id": "C8F7sfcjFsGk",
        "colab_type": "code",
        "colab": {
          "base_uri": "https://localhost:8080/",
          "height": 165
        },
        "outputId": "5c7b6a13-a591-4a2d-aab2-f953ac143ad7"
      },
      "source": [
        "# show one\n",
        "show_digit()"
      ],
      "execution_count": 19,
      "outputs": [
        {
          "output_type": "display_data",
          "data": {
            "image/png": "[encoded data removed]",
            "text/plain": [
              "<Figure size 144x144 with 1 Axes>"
            ]
          },
          "metadata": {
            "tags": []
          }
        }
      ]
    },
    {
      "cell_type": "code",
      "metadata": {
        "id": "EaJSFlInF7nS",
        "colab_type": "code",
        "colab": {
          "base_uri": "https://localhost:8080/",
          "height": 281
        },
        "outputId": "ed509a26-6e2a-4849-ab00-da3a0a2dce14"
      },
      "source": [
        "# show ten\n",
        "show_10_digits()"
      ],
      "execution_count": 20,
      "outputs": [
        {
          "output_type": "display_data",
          "data": {
            "image/png": "[encoded data removed]",
            "text/plain": [
              "<Figure size 576x288 with 10 Axes>"
            ]
          },
          "metadata": {
            "tags": []
          }
        }
      ]
    }
  ]
}